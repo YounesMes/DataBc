{
 "cells": [
  {
   "cell_type": "code",
   "execution_count": 228,
   "id": "cbef957f",
   "metadata": {},
   "outputs": [],
   "source": [
    "import pandas as pd\n",
    "import numpy as np\n",
    "import matplotlib.pyplot as plt\n",
    "from matplotlib import *\n",
    "%matplotlib inline\n"
   ]
  },
  {
   "cell_type": "code",
   "execution_count": 229,
   "id": "301a9d0f",
   "metadata": {},
   "outputs": [
    {
     "data": {
      "text/html": [
       "<div>\n",
       "<style scoped>\n",
       "    .dataframe tbody tr th:only-of-type {\n",
       "        vertical-align: middle;\n",
       "    }\n",
       "\n",
       "    .dataframe tbody tr th {\n",
       "        vertical-align: top;\n",
       "    }\n",
       "\n",
       "    .dataframe thead th {\n",
       "        text-align: right;\n",
       "    }\n",
       "</style>\n",
       "<table border=\"1\" class=\"dataframe\">\n",
       "  <thead>\n",
       "    <tr style=\"text-align: right;\">\n",
       "      <th></th>\n",
       "      <th>Species</th>\n",
       "      <th>Weight</th>\n",
       "      <th>Length1</th>\n",
       "      <th>Length2</th>\n",
       "      <th>Length3</th>\n",
       "      <th>Height</th>\n",
       "      <th>Width</th>\n",
       "    </tr>\n",
       "  </thead>\n",
       "  <tbody>\n",
       "    <tr>\n",
       "      <th>0</th>\n",
       "      <td>Bream</td>\n",
       "      <td>242.0</td>\n",
       "      <td>23.2</td>\n",
       "      <td>25.4</td>\n",
       "      <td>30.0</td>\n",
       "      <td>11.5200</td>\n",
       "      <td>4.0200</td>\n",
       "    </tr>\n",
       "    <tr>\n",
       "      <th>1</th>\n",
       "      <td>Bream</td>\n",
       "      <td>290.0</td>\n",
       "      <td>24.0</td>\n",
       "      <td>26.3</td>\n",
       "      <td>31.2</td>\n",
       "      <td>12.4800</td>\n",
       "      <td>4.3056</td>\n",
       "    </tr>\n",
       "    <tr>\n",
       "      <th>2</th>\n",
       "      <td>Bream</td>\n",
       "      <td>340.0</td>\n",
       "      <td>23.9</td>\n",
       "      <td>26.5</td>\n",
       "      <td>31.1</td>\n",
       "      <td>12.3778</td>\n",
       "      <td>4.6961</td>\n",
       "    </tr>\n",
       "    <tr>\n",
       "      <th>3</th>\n",
       "      <td>Bream</td>\n",
       "      <td>363.0</td>\n",
       "      <td>26.3</td>\n",
       "      <td>29.0</td>\n",
       "      <td>33.5</td>\n",
       "      <td>12.7300</td>\n",
       "      <td>4.4555</td>\n",
       "    </tr>\n",
       "    <tr>\n",
       "      <th>4</th>\n",
       "      <td>Bream</td>\n",
       "      <td>430.0</td>\n",
       "      <td>26.5</td>\n",
       "      <td>29.0</td>\n",
       "      <td>34.0</td>\n",
       "      <td>12.4440</td>\n",
       "      <td>5.1340</td>\n",
       "    </tr>\n",
       "  </tbody>\n",
       "</table>\n",
       "</div>"
      ],
      "text/plain": [
       "  Species  Weight  Length1  Length2  Length3   Height   Width\n",
       "0   Bream   242.0     23.2     25.4     30.0  11.5200  4.0200\n",
       "1   Bream   290.0     24.0     26.3     31.2  12.4800  4.3056\n",
       "2   Bream   340.0     23.9     26.5     31.1  12.3778  4.6961\n",
       "3   Bream   363.0     26.3     29.0     33.5  12.7300  4.4555\n",
       "4   Bream   430.0     26.5     29.0     34.0  12.4440  5.1340"
      ]
     },
     "execution_count": 229,
     "metadata": {},
     "output_type": "execute_result"
    }
   ],
   "source": [
    "df= pd.read_csv(\"Fish.csv\")\n",
    "df.head()"
   ]
  },
  {
   "cell_type": "code",
   "execution_count": 230,
   "id": "8ab449d3",
   "metadata": {},
   "outputs": [],
   "source": [
    "df.isna().sum()\n",
    "df.dropna(inplace=True)"
   ]
  },
  {
   "cell_type": "code",
   "execution_count": 231,
   "id": "48459d22",
   "metadata": {},
   "outputs": [
    {
     "data": {
      "text/html": [
       "<div>\n",
       "<style scoped>\n",
       "    .dataframe tbody tr th:only-of-type {\n",
       "        vertical-align: middle;\n",
       "    }\n",
       "\n",
       "    .dataframe tbody tr th {\n",
       "        vertical-align: top;\n",
       "    }\n",
       "\n",
       "    .dataframe thead th {\n",
       "        text-align: right;\n",
       "    }\n",
       "</style>\n",
       "<table border=\"1\" class=\"dataframe\">\n",
       "  <thead>\n",
       "    <tr style=\"text-align: right;\">\n",
       "      <th></th>\n",
       "      <th>Species</th>\n",
       "      <th>Weight</th>\n",
       "      <th>Length1</th>\n",
       "      <th>Length2</th>\n",
       "      <th>Length3</th>\n",
       "      <th>Height</th>\n",
       "      <th>Width</th>\n",
       "      <th>Weight_zscore</th>\n",
       "    </tr>\n",
       "  </thead>\n",
       "  <tbody>\n",
       "    <tr>\n",
       "      <th>0</th>\n",
       "      <td>Bream</td>\n",
       "      <td>242.0</td>\n",
       "      <td>23.2</td>\n",
       "      <td>25.4</td>\n",
       "      <td>30.0</td>\n",
       "      <td>11.5200</td>\n",
       "      <td>4.0200</td>\n",
       "      <td>240.887289</td>\n",
       "    </tr>\n",
       "    <tr>\n",
       "      <th>1</th>\n",
       "      <td>Bream</td>\n",
       "      <td>290.0</td>\n",
       "      <td>24.0</td>\n",
       "      <td>26.3</td>\n",
       "      <td>31.2</td>\n",
       "      <td>12.4800</td>\n",
       "      <td>4.3056</td>\n",
       "      <td>288.887289</td>\n",
       "    </tr>\n",
       "    <tr>\n",
       "      <th>2</th>\n",
       "      <td>Bream</td>\n",
       "      <td>340.0</td>\n",
       "      <td>23.9</td>\n",
       "      <td>26.5</td>\n",
       "      <td>31.1</td>\n",
       "      <td>12.3778</td>\n",
       "      <td>4.6961</td>\n",
       "      <td>338.887289</td>\n",
       "    </tr>\n",
       "    <tr>\n",
       "      <th>3</th>\n",
       "      <td>Bream</td>\n",
       "      <td>363.0</td>\n",
       "      <td>26.3</td>\n",
       "      <td>29.0</td>\n",
       "      <td>33.5</td>\n",
       "      <td>12.7300</td>\n",
       "      <td>4.4555</td>\n",
       "      <td>361.887289</td>\n",
       "    </tr>\n",
       "    <tr>\n",
       "      <th>4</th>\n",
       "      <td>Bream</td>\n",
       "      <td>430.0</td>\n",
       "      <td>26.5</td>\n",
       "      <td>29.0</td>\n",
       "      <td>34.0</td>\n",
       "      <td>12.4440</td>\n",
       "      <td>5.1340</td>\n",
       "      <td>428.887289</td>\n",
       "    </tr>\n",
       "    <tr>\n",
       "      <th>...</th>\n",
       "      <td>...</td>\n",
       "      <td>...</td>\n",
       "      <td>...</td>\n",
       "      <td>...</td>\n",
       "      <td>...</td>\n",
       "      <td>...</td>\n",
       "      <td>...</td>\n",
       "      <td>...</td>\n",
       "    </tr>\n",
       "    <tr>\n",
       "      <th>154</th>\n",
       "      <td>Smelt</td>\n",
       "      <td>12.2</td>\n",
       "      <td>11.5</td>\n",
       "      <td>12.2</td>\n",
       "      <td>13.4</td>\n",
       "      <td>2.0904</td>\n",
       "      <td>1.3936</td>\n",
       "      <td>11.087289</td>\n",
       "    </tr>\n",
       "    <tr>\n",
       "      <th>155</th>\n",
       "      <td>Smelt</td>\n",
       "      <td>13.4</td>\n",
       "      <td>11.7</td>\n",
       "      <td>12.4</td>\n",
       "      <td>13.5</td>\n",
       "      <td>2.4300</td>\n",
       "      <td>1.2690</td>\n",
       "      <td>12.287289</td>\n",
       "    </tr>\n",
       "    <tr>\n",
       "      <th>156</th>\n",
       "      <td>Smelt</td>\n",
       "      <td>12.2</td>\n",
       "      <td>12.1</td>\n",
       "      <td>13.0</td>\n",
       "      <td>13.8</td>\n",
       "      <td>2.2770</td>\n",
       "      <td>1.2558</td>\n",
       "      <td>11.087289</td>\n",
       "    </tr>\n",
       "    <tr>\n",
       "      <th>157</th>\n",
       "      <td>Smelt</td>\n",
       "      <td>19.7</td>\n",
       "      <td>13.2</td>\n",
       "      <td>14.3</td>\n",
       "      <td>15.2</td>\n",
       "      <td>2.8728</td>\n",
       "      <td>2.0672</td>\n",
       "      <td>18.587289</td>\n",
       "    </tr>\n",
       "    <tr>\n",
       "      <th>158</th>\n",
       "      <td>Smelt</td>\n",
       "      <td>19.9</td>\n",
       "      <td>13.8</td>\n",
       "      <td>15.0</td>\n",
       "      <td>16.2</td>\n",
       "      <td>2.9322</td>\n",
       "      <td>1.8792</td>\n",
       "      <td>18.787289</td>\n",
       "    </tr>\n",
       "  </tbody>\n",
       "</table>\n",
       "<p>158 rows × 8 columns</p>\n",
       "</div>"
      ],
      "text/plain": [
       "    Species  Weight  Length1  Length2  Length3   Height   Width  Weight_zscore\n",
       "0     Bream   242.0     23.2     25.4     30.0  11.5200  4.0200     240.887289\n",
       "1     Bream   290.0     24.0     26.3     31.2  12.4800  4.3056     288.887289\n",
       "2     Bream   340.0     23.9     26.5     31.1  12.3778  4.6961     338.887289\n",
       "3     Bream   363.0     26.3     29.0     33.5  12.7300  4.4555     361.887289\n",
       "4     Bream   430.0     26.5     29.0     34.0  12.4440  5.1340     428.887289\n",
       "..      ...     ...      ...      ...      ...      ...     ...            ...\n",
       "154   Smelt    12.2     11.5     12.2     13.4   2.0904  1.3936      11.087289\n",
       "155   Smelt    13.4     11.7     12.4     13.5   2.4300  1.2690      12.287289\n",
       "156   Smelt    12.2     12.1     13.0     13.8   2.2770  1.2558      11.087289\n",
       "157   Smelt    19.7     13.2     14.3     15.2   2.8728  2.0672      18.587289\n",
       "158   Smelt    19.9     13.8     15.0     16.2   2.9322  1.8792      18.787289\n",
       "\n",
       "[158 rows x 8 columns]"
      ]
     },
     "execution_count": 231,
     "metadata": {},
     "output_type": "execute_result"
    }
   ],
   "source": [
    "df[\"Weight_zscore\"]=(df.Weight-df.Weight.mean()/df.Weight.std())\n",
    "df=df[df[\"Weight_zscore\"]>3]\n",
    "df"
   ]
  },
  {
   "cell_type": "markdown",
   "id": "6cba5887",
   "metadata": {},
   "source": [
    "# Data exploration :"
   ]
  },
  {
   "cell_type": "code",
   "execution_count": 232,
   "id": "235ca849",
   "metadata": {},
   "outputs": [
    {
     "data": {
      "image/png": "[encoded data removed]",
      "text/plain": [
       "<Figure size 1440x720 with 1 Axes>"
      ]
     },
     "metadata": {
      "needs_background": "light"
     },
     "output_type": "display_data"
    }
   ],
   "source": [
    "plt.figure(figsize=(20, 10))\n",
    "plt.scatter(df[\"Length1\"], df[\"Weight_zscore\"])\n",
    "plt.show()"
   ]
  },
  {
   "cell_type": "markdown",
   "id": "1643d2ca",
   "metadata": {},
   "source": [
    "# Data extraction : "
   ]
  },
  {
   "cell_type": "code",
   "execution_count": 233,
   "id": "0efadf67",
   "metadata": {},
   "outputs": [],
   "source": [
    "# y = e^x + b\n",
    "df[\"Length1\"] = df[\"Length1\"].astype(float)\n",
    "df[\"Weight\"] = df[\"Weight\"].astype(float)"
   ]
  },
  {
   "cell_type": "code",
   "execution_count": 238,
   "id": "e7acded7",
   "metadata": {},
   "outputs": [],
   "source": [
    "x = df.iloc[:,2]\n",
    "y =df.iloc[:,7]"
   ]
  },
  {
   "cell_type": "code",
   "execution_count": 239,
   "id": "8eef26a1",
   "metadata": {},
   "outputs": [],
   "source": [
    "# def convert_to_floats(rows):\n",
    "#     \"\"\"convert a list of string tuples to a  ndarray of floats\"\"\"\n",
    "\n",
    "#     # create a a result list ( later to be converted to np array matrix)\n",
    "#     result = []\n",
    "#     # To-Do Loop through the list and convert row by row\n",
    "#     for row in rows:\n",
    "\n",
    "#        value = np.asarray(row)\n",
    "#        value = value.astype(np.float)\n",
    "\n",
    "#        result.append(value)  # Vstack means we are adding a row\n",
    "\n",
    "#     return np.array(result)"
   ]
  },
  {
   "cell_type": "code",
   "execution_count": 240,
   "id": "cdba75a3",
   "metadata": {},
   "outputs": [
    {
     "data": {
      "text/plain": [
       "array([[23.2],\n",
       "       [24. ],\n",
       "       [23.9],\n",
       "       [26.3],\n",
       "       [26.5],\n",
       "       [26.8],\n",
       "       [26.8],\n",
       "       [27.6],\n",
       "       [27.6],\n",
       "       [28.5],\n",
       "       [28.4],\n",
       "       [28.7],\n",
       "       [29.1],\n",
       "       [29.5],\n",
       "       [29.4],\n",
       "       [29.4],\n",
       "       [30.4],\n",
       "       [30.4],\n",
       "       [30.9],\n",
       "       [31. ],\n",
       "       [31.3],\n",
       "       [31.4],\n",
       "       [31.5],\n",
       "       [31.8],\n",
       "       [31.9],\n",
       "       [31.8],\n",
       "       [32. ],\n",
       "       [32.7],\n",
       "       [32.8],\n",
       "       [33.5],\n",
       "       [35. ],\n",
       "       [35. ],\n",
       "       [36.2],\n",
       "       [37.4],\n",
       "       [38. ],\n",
       "       [12.9],\n",
       "       [16.5],\n",
       "       [17.5],\n",
       "       [18.2],\n",
       "       [18.6],\n",
       "       [19.1],\n",
       "       [19.4],\n",
       "       [20.4],\n",
       "       [20.5],\n",
       "       [20.5],\n",
       "       [21. ],\n",
       "       [21.1],\n",
       "       [22. ],\n",
       "       [22. ],\n",
       "       [22.1],\n",
       "       [23.6],\n",
       "       [24. ],\n",
       "       [25. ],\n",
       "       [29.5],\n",
       "       [23.6],\n",
       "       [24.1],\n",
       "       [25.6],\n",
       "       [28.5],\n",
       "       [33.7],\n",
       "       [37.3],\n",
       "       [13.5],\n",
       "       [14.3],\n",
       "       [16.3],\n",
       "       [17.5],\n",
       "       [18.4],\n",
       "       [19. ],\n",
       "       [19. ],\n",
       "       [19.8],\n",
       "       [21.2],\n",
       "       [23. ],\n",
       "       [24. ],\n",
       "       [ 7.5],\n",
       "       [12.5],\n",
       "       [13.8],\n",
       "       [15. ],\n",
       "       [15.7],\n",
       "       [16.2],\n",
       "       [16.8],\n",
       "       [17.2],\n",
       "       [17.8],\n",
       "       [18.2],\n",
       "       [19. ],\n",
       "       [19. ],\n",
       "       [19. ],\n",
       "       [19.3],\n",
       "       [20. ],\n",
       "       [20. ],\n",
       "       [20. ],\n",
       "       [20. ],\n",
       "       [20. ],\n",
       "       [20.5],\n",
       "       [20.5],\n",
       "       [20.7],\n",
       "       [21. ],\n",
       "       [21.5],\n",
       "       [22. ],\n",
       "       [22. ],\n",
       "       [22.6],\n",
       "       [23. ],\n",
       "       [23.5],\n",
       "       [25. ],\n",
       "       [25.2],\n",
       "       [25.4],\n",
       "       [25.4],\n",
       "       [25.4],\n",
       "       [25.9],\n",
       "       [26.9],\n",
       "       [27.8],\n",
       "       [30.5],\n",
       "       [32. ],\n",
       "       [32.5],\n",
       "       [34. ],\n",
       "       [34. ],\n",
       "       [34.5],\n",
       "       [34.6],\n",
       "       [36.5],\n",
       "       [36.5],\n",
       "       [36.6],\n",
       "       [36.9],\n",
       "       [37. ],\n",
       "       [37. ],\n",
       "       [37.1],\n",
       "       [39. ],\n",
       "       [39.8],\n",
       "       [40.1],\n",
       "       [40.2],\n",
       "       [41.1],\n",
       "       [30. ],\n",
       "       [31.7],\n",
       "       [32.7],\n",
       "       [34.8],\n",
       "       [35.5],\n",
       "       [36. ],\n",
       "       [40. ],\n",
       "       [40. ],\n",
       "       [40.1],\n",
       "       [42. ],\n",
       "       [43.2],\n",
       "       [44.8],\n",
       "       [48.3],\n",
       "       [52. ],\n",
       "       [56. ],\n",
       "       [56. ],\n",
       "       [59. ],\n",
       "       [ 9.3],\n",
       "       [10. ],\n",
       "       [10.1],\n",
       "       [10.4],\n",
       "       [10.7],\n",
       "       [10.8],\n",
       "       [11.3],\n",
       "       [11.3],\n",
       "       [11.4],\n",
       "       [11.5],\n",
       "       [11.7],\n",
       "       [12.1],\n",
       "       [13.2],\n",
       "       [13.8]])"
      ]
     },
     "execution_count": 240,
     "metadata": {},
     "output_type": "execute_result"
    }
   ],
   "source": [
    "value_x=np.array(x)\n",
    "value_x\n",
    "value_x=value_x.reshape(-1,1)\n",
    "value_x\n"
   ]
  },
  {
   "cell_type": "code",
   "execution_count": 241,
   "id": "ec8c72e6",
   "metadata": {},
   "outputs": [],
   "source": [
    "value_y=np.array(y)\n",
    "value_y\n",
    "value_y=value_y.reshape(-1,1)\n"
   ]
  },
  {
   "cell_type": "markdown",
   "id": "ebbbcef0",
   "metadata": {},
   "source": [
    "# Model building :"
   ]
  },
  {
   "cell_type": "code",
   "execution_count": null,
   "id": "ed9ed065",
   "metadata": {},
   "outputs": [],
   "source": []
  },
  {
   "cell_type": "code",
   "execution_count": 242,
   "id": "fd249d9f",
   "metadata": {},
   "outputs": [],
   "source": [
    "from sklearn.linear_model import LinearRegression"
   ]
  },
  {
   "cell_type": "code",
   "execution_count": 243,
   "id": "55959e5d",
   "metadata": {},
   "outputs": [],
   "source": [
    "from sklearn.preprocessing import PolynomialFeatures\n"
   ]
  },
  {
   "cell_type": "code",
   "execution_count": 255,
   "id": "2780a1a4",
   "metadata": {},
   "outputs": [],
   "source": [
    "poly = PolynomialFeatures(degree=3)\n",
    "x_poly=poly.fit_transform(value_x)"
   ]
  },
  {
   "cell_type": "code",
   "execution_count": 256,
   "id": "bfe7d51d",
   "metadata": {},
   "outputs": [
    {
     "data": {
      "text/plain": [
       "PolynomialFeatures(degree=3)"
      ]
     },
     "execution_count": 256,
     "metadata": {},
     "output_type": "execute_result"
    }
   ],
   "source": [
    "poly.fit(x_poly, value_y)"
   ]
  },
  {
   "cell_type": "code",
   "execution_count": 257,
   "id": "429b4e91",
   "metadata": {},
   "outputs": [],
   "source": [
    "linreg=LinearRegression()\n"
   ]
  },
  {
   "cell_type": "code",
   "execution_count": 258,
   "id": "3429eb60",
   "metadata": {},
   "outputs": [
    {
     "data": {
      "text/plain": [
       "LinearRegression()"
      ]
     },
     "execution_count": 258,
     "metadata": {},
     "output_type": "execute_result"
    }
   ],
   "source": [
    "linreg.fit(x_poly, value_y)"
   ]
  },
  {
   "cell_type": "code",
   "execution_count": 259,
   "id": "8216b3cf",
   "metadata": {},
   "outputs": [],
   "source": [
    "y_pred=linreg.predict(x_poly)"
   ]
  },
  {
   "cell_type": "code",
   "execution_count": 267,
   "id": "0f3cadb7",
   "metadata": {},
   "outputs": [
    {
     "data": {
      "image/png": "[encoded data removed]",
      "text/plain": [
       "<Figure size 1440x720 with 1 Axes>"
      ]
     },
     "metadata": {
      "needs_background": "light"
     },
     "output_type": "display_data"
    }
   ],
   "source": [
    "\n",
    "plt.figure(figsize=(20, 10))\n",
    "plt.scatter(value_x, y_pred, color='red')\n",
    "plt.scatter(value_x, value_y, color='blue')\n",
    "plt.show()\n"
   ]
  },
  {
   "cell_type": "code",
   "execution_count": 269,
   "id": "ced6329a",
   "metadata": {},
   "outputs": [
    {
     "data": {
      "text/plain": [
       "<matplotlib.collections.PathCollection at 0x21ae8b61610>"
      ]
     },
     "execution_count": 269,
     "metadata": {},
     "output_type": "execute_result"
    },
    {
     "data": {
      "image/png": "[encoded data removed]",
      "text/plain": [
       "<Figure size 432x288 with 1 Axes>"
      ]
     },
     "metadata": {
      "needs_background": "light"
     },
     "output_type": "display_data"
    }
   ],
   "source": [
    "plt.plot(value_x, y_pred,color=\"red\")\n",
    "plt.scatter(value_x,value_y,color=\"blue\")"
   ]
  },
  {
   "cell_type": "code",
   "execution_count": 262,
   "id": "cc18a27c",
   "metadata": {},
   "outputs": [
    {
     "data": {
      "text/plain": [
       "array([[ 0.00000000e+00, -1.44962264e+01,  1.41461834e+00,\n",
       "        -1.23236569e-02]])"
      ]
     },
     "execution_count": 262,
     "metadata": {},
     "output_type": "execute_result"
    }
   ],
   "source": [
    "linreg.coef_"
   ]
  },
  {
   "cell_type": "code",
   "execution_count": 263,
   "id": "e937a0ac",
   "metadata": {},
   "outputs": [
    {
     "data": {
      "text/plain": [
       "array([-10.12784788])"
      ]
     },
     "execution_count": 263,
     "metadata": {},
     "output_type": "execute_result"
    }
   ],
   "source": [
    "linreg.intercept_"
   ]
  },
  {
   "cell_type": "code",
   "execution_count": 264,
   "id": "56879589",
   "metadata": {},
   "outputs": [],
   "source": [
    "from sklearn.metrics import r2_score\n"
   ]
  },
  {
   "cell_type": "code",
   "execution_count": 265,
   "id": "055a0be4",
   "metadata": {},
   "outputs": [
    {
     "data": {
      "text/plain": [
       "-2422.645068754493"
      ]
     },
     "execution_count": 265,
     "metadata": {},
     "output_type": "execute_result"
    }
   ],
   "source": [
    "r2_score(value_x, y_pred)"
   ]
  },
  {
   "cell_type": "code",
   "execution_count": null,
   "id": "6d245d5a",
   "metadata": {},
   "outputs": [],
   "source": []
  }
 ],
 "metadata": {
  "interpreter": {
   "hash": "0676fb1ef8fd9a87e7f4f96f2bdbc94fa1c19c3c10c993abf4026af203c05233"
  },
  "kernelspec": {
   "display_name": "Python 3 (ipykernel)",
   "language": "python",
   "name": "python3"
  },
  "language_info": {
   "codemirror_mode": {
    "name": "ipython",
    "version": 3
   },
   "file_extension": ".py",
   "mimetype": "text/x-python",
   "name": "python",
   "nbconvert_exporter": "python",
   "pygments_lexer": "ipython3",
   "version": "3.8.8"
  }
 },
 "nbformat": 4,
 "nbformat_minor": 5
}
